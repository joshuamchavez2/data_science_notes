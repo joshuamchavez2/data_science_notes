{
 "cells": [
  {
   "cell_type": "code",
   "execution_count": 1,
   "id": "a1953147",
   "metadata": {},
   "outputs": [],
   "source": [
    "from math import sqrt\n",
    "from scipy import stats\n",
    "import matplotlib.pyplot as plt\n",
    "import numpy as np\n",
    "import pandas as pd\n",
    "import seaborn as sns\n",
    "from pydataset import data\n",
    "import statistics\n",
    "import acquire\n",
    "import prepare\n",
    "\n",
    "from sklearn.model_selection import train_test_split\n",
    "from sklearn.tree import DecisionTreeClassifier\n",
    "from sklearn.tree import export_graphviz\n",
    "from sklearn.metrics import classification_report\n",
    "from sklearn.metrics import confusion_matrix\n",
    "from sklearn.ensemble import RandomForestClassifier\n",
    "from sklearn.neighbors import KNeighborsClassifier\n",
    "\n",
    "import explore\n",
    "import warnings\n",
    "warnings.filterwarnings(\"ignore\")\n",
    "\n",
    "import graphviz\n",
    "from graphviz import Graph\n",
    "\n",
    "import itertools as it"
   ]
  },
  {
   "cell_type": "markdown",
   "id": "6fba1e2a",
   "metadata": {},
   "source": [
    "# Using Titanic Data Set"
   ]
  },
  {
   "cell_type": "code",
   "execution_count": 2,
   "id": "d2254a19",
   "metadata": {},
   "outputs": [],
   "source": [
    "train, validate, test = prepare.prep_titanic_data(acquire.get_titanic_data())"
   ]
  },
  {
   "cell_type": "code",
   "execution_count": 3,
   "id": "fccde1bd",
   "metadata": {},
   "outputs": [],
   "source": [
    "X_train = train.drop(columns=['survived'])\n",
    "y_train = train.survived\n",
    "\n",
    "X_validate = validate.drop(columns=['survived'])\n",
    "y_validate = validate.survived\n",
    "\n",
    "X_test = test.drop(columns=['survived'])\n",
    "y_test = test.survived"
   ]
  },
  {
   "cell_type": "markdown",
   "id": "310d091c",
   "metadata": {},
   "source": [
    "# Using my previously defined models (tree, forest and KNN)"
   ]
  },
  {
   "cell_type": "code",
   "execution_count": 4,
   "id": "a7e5fdc4",
   "metadata": {},
   "outputs": [],
   "source": [
    "def knn(k, X_train, Y_train):\n",
    "    knn = KNeighborsClassifier(n_neighbors=k, weights='uniform')\n",
    "    knn.fit(X_train, y_train)\n",
    "    y_pred = knn.predict(X_train)\n",
    "    report = classification_report(y_train, y_pred, output_dict=True)\n",
    "    print(f\"K as {k}\")\n",
    "    print(pd.DataFrame(report))"
   ]
  },
  {
   "cell_type": "code",
   "execution_count": 5,
   "id": "6e35b045",
   "metadata": {},
   "outputs": [],
   "source": [
    "def forest_train(leaf, depth):\n",
    "    rf = RandomForestClassifier(bootstrap=True, \n",
    "                            class_weight=None, \n",
    "                            criterion='gini',\n",
    "                            min_samples_leaf=leaf,\n",
    "                            n_estimators=100,\n",
    "                            max_depth=depth, \n",
    "                            random_state=123)\n",
    "    \n",
    "    rf.fit(X_train, y_train)\n",
    "    accuracy = rf.score(X_train, y_train)\n",
    "    return round(accuracy, 3)"
   ]
  },
  {
   "cell_type": "code",
   "execution_count": 6,
   "id": "fa5fab3d",
   "metadata": {},
   "outputs": [],
   "source": [
    "def forest_validate(leaf, depth):\n",
    "    rf = RandomForestClassifier(bootstrap=True, \n",
    "                            class_weight=None, \n",
    "                            criterion='gini',\n",
    "                            min_samples_leaf=leaf,\n",
    "                            n_estimators=100,\n",
    "                            max_depth=depth, \n",
    "                            random_state=123)\n",
    "    \n",
    "    rf.fit(X_train, y_train)\n",
    "    accuracy = rf.score(X_validate, y_validate)\n",
    "    return round(accuracy, 3)"
   ]
  },
  {
   "cell_type": "markdown",
   "id": "ecfe2dc6",
   "metadata": {},
   "source": [
    "# Using itertools to try and create unique permutaitons of labels"
   ]
  },
  {
   "cell_type": "code",
   "execution_count": 8,
   "id": "7990a3a1",
   "metadata": {},
   "outputs": [
    {
     "data": {
      "text/plain": [
       "<itertools.combinations_with_replacement at 0x7f8fb801ad60>"
      ]
     },
     "execution_count": 8,
     "metadata": {},
     "output_type": "execute_result"
    }
   ],
   "source": [
    "# Still wasn't able to figure it out but here is some of my testing on paper\n",
    "cc = list(it.permutations(train.columns, 2))\n",
    "cc\n",
    "mylist = list(train.columns[1:])\n",
    "it.combinations_with_replacement(mylist, 3)\n"
   ]
  },
  {
   "cell_type": "markdown",
   "id": "2c275926",
   "metadata": {},
   "source": [
    "### Unsuccesful at creating unique permutations so lets just try and capture the main idea with what I have"
   ]
  },
  {
   "cell_type": "markdown",
   "id": "26f51fc2",
   "metadata": {},
   "source": [
    "# Attempting to use a few permutations and run my model as an\n",
    "# example of where I was trying to go with this"
   ]
  },
  {
   "cell_type": "code",
   "execution_count": 13,
   "id": "b343bc45",
   "metadata": {},
   "outputs": [
    {
     "data": {
      "text/plain": [
       "[('survived', 'pclass', 'sibsp'),\n",
       " ('survived', 'pclass', 'parch'),\n",
       " ('survived', 'pclass', 'fare'),\n",
       " ('survived', 'pclass', 'alone'),\n",
       " ('survived', 'pclass', 'sex_male')]"
      ]
     },
     "execution_count": 13,
     "metadata": {},
     "output_type": "execute_result"
    }
   ],
   "source": [
    "train, validate, test = prepare.prep_titanic_data(acquire.get_titanic_data())\n",
    "\n",
    "\n",
    "list_of_combos = list(it.permutations(train.columns, 3))[:5]\n",
    "\n",
    "list_of_combos"
   ]
  },
  {
   "cell_type": "code",
   "execution_count": 17,
   "id": "7723d9a7",
   "metadata": {},
   "outputs": [
    {
     "name": "stdout",
     "output_type": "stream",
     "text": [
      "\n",
      "\n",
      "('survived', 'pclass', 'sibsp')\n",
      "K as 1\n",
      "                    0           1  accuracy   macro avg  weighted avg\n",
      "precision    0.615866    0.381818   0.59176    0.498842      0.526016\n",
      "recall       0.896657    0.102439   0.59176    0.499548      0.591760\n",
      "f1-score     0.730198    0.161538   0.59176    0.445868      0.511892\n",
      "support    329.000000  205.000000   0.59176  534.000000    534.000000\n",
      "K as 2\n",
      "                    0           1  accuracy   macro avg  weighted avg\n",
      "precision    0.615542    0.377778  0.595506    0.496660      0.524265\n",
      "recall       0.914894    0.082927  0.595506    0.498910      0.595506\n",
      "f1-score     0.735941    0.136000  0.595506    0.435971      0.505627\n",
      "support    329.000000  205.000000  0.595506  534.000000    534.000000\n",
      "K as 3\n",
      "                    0           1  accuracy   macro avg  weighted avg\n",
      "precision    0.693370    0.546512  0.646067    0.619941      0.636992\n",
      "recall       0.762918    0.458537  0.646067    0.610727      0.646067\n",
      "f1-score     0.726483    0.498674  0.646067    0.612579      0.639028\n",
      "support    329.000000  205.000000  0.646067  534.000000    534.000000\n",
      "K as 4\n",
      "                    0           1  accuracy   macro avg  weighted avg\n",
      "precision    0.690860    0.555556  0.649813    0.623208      0.638917\n",
      "recall       0.781155    0.439024  0.649813    0.610090      0.649813\n",
      "f1-score     0.733238    0.490463  0.649813    0.611851      0.640038\n",
      "support    329.000000  205.000000  0.649813  534.000000    534.000000\n",
      "\n",
      "\n",
      "('survived', 'pclass', 'parch')\n",
      "K as 1\n",
      "                    0           1  accuracy   macro avg  weighted avg\n",
      "precision    0.648374    0.761905  0.657303    0.705139      0.691958\n",
      "recall       0.969605    0.156098  0.657303    0.562851      0.657303\n",
      "f1-score     0.777101    0.259109  0.657303    0.518105      0.578247\n",
      "support    329.000000  205.000000  0.657303  534.000000    534.000000\n",
      "K as 2\n",
      "                    0           1  accuracy   macro avg  weighted avg\n",
      "precision    0.643426    0.812500  0.653558    0.727963      0.708333\n",
      "recall       0.981763    0.126829  0.653558    0.554296      0.653558\n",
      "f1-score     0.777377    0.219409  0.653558    0.498393      0.563176\n",
      "support    329.000000  205.000000  0.653558  534.000000    534.000000\n",
      "K as 3\n",
      "                    0           1  accuracy   macro avg  weighted avg\n",
      "precision    0.707500    0.656716  0.694757    0.682108      0.688004\n",
      "recall       0.860182    0.429268  0.694757    0.644725      0.694757\n",
      "f1-score     0.776406    0.519174  0.694757    0.647790      0.677656\n",
      "support    329.000000  205.000000  0.694757  534.000000    534.000000\n",
      "K as 4\n",
      "                    0           1  accuracy   macro avg  weighted avg\n",
      "precision    0.643426    0.812500  0.653558    0.727963      0.708333\n",
      "recall       0.981763    0.126829  0.653558    0.554296      0.653558\n",
      "f1-score     0.777377    0.219409  0.653558    0.498393      0.563176\n",
      "support    329.000000  205.000000  0.653558  534.000000    534.000000\n",
      "\n",
      "\n",
      "('survived', 'pclass', 'fare')\n",
      "K as 1\n",
      "                    0           1  accuracy   macro avg  weighted avg\n",
      "precision    0.868966    0.684426  0.784644    0.776696      0.798122\n",
      "recall       0.765957    0.814634  0.784644    0.790296      0.784644\n",
      "f1-score     0.814216    0.743875  0.784644    0.779046      0.787213\n",
      "support    329.000000  205.000000  0.784644  534.000000    534.000000\n",
      "K as 2\n",
      "                    0           1  accuracy   macro avg  weighted avg\n",
      "precision    0.774936    0.818182  0.786517    0.796559      0.791538\n",
      "recall       0.920973    0.570732  0.786517    0.745852      0.786517\n",
      "f1-score     0.841667    0.672414  0.786517    0.757040      0.776691\n",
      "support    329.000000  205.000000  0.786517  534.000000    534.000000\n",
      "K as 3\n",
      "                    0           1  accuracy   macro avg  weighted avg\n",
      "precision    0.850498    0.686695  0.779026    0.768597      0.787615\n",
      "recall       0.778116    0.780488  0.779026    0.779302      0.779026\n",
      "f1-score     0.812698    0.730594  0.779026    0.771646      0.781179\n",
      "support    329.000000  205.000000  0.779026  534.000000    534.000000\n",
      "K as 4\n",
      "                    0           1  accuracy   macro avg  weighted avg\n",
      "precision    0.747368    0.707792  0.735955    0.727580      0.732175\n",
      "recall       0.863222    0.531707  0.735955    0.697465      0.735955\n",
      "f1-score     0.801128    0.607242  0.735955    0.704185      0.726696\n",
      "support    329.000000  205.000000  0.735955  534.000000    534.000000\n",
      "\n",
      "\n",
      "('survived', 'pclass', 'alone')\n",
      "K as 1\n",
      "                    0           1  accuracy   macro avg  weighted avg\n",
      "precision    0.687500    0.490654  0.608614    0.589077      0.611932\n",
      "recall       0.668693    0.512195  0.608614    0.590444      0.608614\n",
      "f1-score     0.677966    0.501193  0.608614    0.589580      0.610104\n",
      "support    329.000000  205.000000  0.608614  534.000000    534.000000\n",
      "K as 2\n",
      "                    0           1  accuracy   macro avg  weighted avg\n",
      "precision    0.686893    0.622951  0.672285    0.654922      0.662346\n",
      "recall       0.860182    0.370732  0.672285    0.615457      0.672285\n",
      "f1-score     0.763833    0.464832  0.672285    0.614332      0.649048\n",
      "support    329.000000  205.000000  0.672285  534.000000    534.000000\n",
      "K as 3\n",
      "                    0           1  accuracy   macro avg  weighted avg\n",
      "precision    0.732044    0.627907  0.698502    0.679976      0.692066\n",
      "recall       0.805471    0.526829  0.698502    0.666150      0.698502\n",
      "f1-score     0.767004    0.572944  0.698502    0.669974      0.692506\n",
      "support    329.000000  205.000000  0.698502  534.000000    534.000000\n",
      "K as 4\n",
      "                    0           1  accuracy   macro avg  weighted avg\n",
      "precision    0.732044    0.627907  0.698502    0.679976      0.692066\n",
      "recall       0.805471    0.526829  0.698502    0.666150      0.698502\n",
      "f1-score     0.767004    0.572944  0.698502    0.669974      0.692506\n",
      "support    329.000000  205.000000  0.698502  534.000000    534.000000\n",
      "\n",
      "\n",
      "('survived', 'pclass', 'sex_male')\n",
      "K as 1\n",
      "                    0           1  accuracy   macro avg  weighted avg\n",
      "precision    0.828571    0.415948  0.470037    0.622260      0.670167\n",
      "recall       0.176292    0.941463  0.470037    0.558878      0.470037\n",
      "f1-score     0.290727    0.576981  0.470037    0.433854      0.400618\n",
      "support    329.000000  205.000000  0.470037  534.000000    534.000000\n",
      "K as 2\n",
      "                    0           1  accuracy   macro avg  weighted avg\n",
      "precision    0.813218    0.752688  0.792135    0.782953      0.789981\n",
      "recall       0.860182    0.682927  0.792135    0.771555      0.792135\n",
      "f1-score     0.836041    0.716113  0.792135    0.776077      0.790001\n",
      "support    329.000000  205.000000  0.792135  534.000000    534.000000\n",
      "K as 3\n",
      "                    0           1  accuracy   macro avg  weighted avg\n",
      "precision    0.862816    0.649805    0.7603    0.756311      0.781042\n",
      "recall       0.726444    0.814634    0.7603    0.770539      0.760300\n",
      "f1-score     0.788779    0.722944    0.7603    0.755861      0.763505\n",
      "support    329.000000  205.000000    0.7603  534.000000    534.000000\n",
      "K as 4\n",
      "                    0           1  accuracy   macro avg  weighted avg\n",
      "precision    0.862816    0.649805    0.7603    0.756311      0.781042\n",
      "recall       0.726444    0.814634    0.7603    0.770539      0.760300\n",
      "f1-score     0.788779    0.722944    0.7603    0.755861      0.763505\n",
      "support    329.000000  205.000000    0.7603  534.000000    534.000000\n"
     ]
    }
   ],
   "source": [
    "def knn(k, X_train, y_train):\n",
    "    knn = KNeighborsClassifier(n_neighbors=k, weights='uniform')\n",
    "    knn.fit(X_train, y_train)\n",
    "    y_pred = knn.predict(X_train)\n",
    "    report = classification_report(y_train, y_pred, output_dict=True)\n",
    "    print(f\"K as {k}\")\n",
    "    print(pd.DataFrame(report))\n",
    "\n",
    "train, validate, test = prepare.prep_titanic_data(acquire.get_titanic_data())\n",
    "list_of_combos = list(it.permutations(train.columns, 3))[:5] # Only first 5 permutations for sake of example\n",
    "\n",
    "for combo in list_of_combos:\n",
    "    X_train = train[list(combo)].drop(columns=['survived'])\n",
    "    Y_train = train.survived\n",
    "    print(\"\\n\")\n",
    "    print(combo)\n",
    "    for i in range(1,5):\n",
    "        knn(i, X_train, Y_train)"
   ]
  },
  {
   "cell_type": "markdown",
   "id": "cf165562",
   "metadata": {},
   "source": [
    "# Error occurs when you attempt to drop survived when its not in the permutation"
   ]
  },
  {
   "cell_type": "markdown",
   "id": "22210c3a",
   "metadata": {},
   "source": [
    "### Notes from Charles below"
   ]
  },
  {
   "cell_type": "raw",
   "id": "17232171",
   "metadata": {},
   "source": [
    "accuracy = 0\n",
    "most_accurate_comb = None\n",
    "for combo in all_combs:\n",
    "    X_Train = X_train[[*combo]]\n",
    "    knn = KNeighborsClassifier(n_neighbors=5)\n",
    "    knn.fit(X_Train, y_train)\n",
    "    score = knn.score(X_validate[[*combo]], y_validate)\n",
    "    if score > accuracy:\n",
    "        print(score)\n",
    "        accuracy = score\n",
    "        most_accurate_comb = combo"
   ]
  },
  {
   "cell_type": "markdown",
   "id": "41d41517",
   "metadata": {},
   "source": [
    "### Notes from Ryan "
   ]
  },
  {
   "cell_type": "raw",
   "id": "125be283",
   "metadata": {},
   "source": [
    "import itertools\n",
    "\n",
    "features = [\"this\", \"that\", \"the other\"]\n",
    "            \n",
    "possible_combinations = []\n",
    "            \n",
    "for i in range(2, len(features) + 1):\n",
    "    possible_combinations.extend(list(itertools.combinations(features, i)))\n",
    "\n",
    "possible_combinations"
   ]
  },
  {
   "cell_type": "raw",
   "id": "23cd454a",
   "metadata": {},
   "source": [
    "for combination in possible_combinations:\n",
    "    features = list(combination)\n",
    "    model = model.fit(X_train[[features]])\n",
    "    # then continue on with your model evaluation"
   ]
  },
  {
   "cell_type": "code",
   "execution_count": null,
   "id": "43e87e4e",
   "metadata": {},
   "outputs": [],
   "source": []
  }
 ],
 "metadata": {
  "kernelspec": {
   "display_name": "Python 3",
   "language": "python",
   "name": "python3"
  },
  "language_info": {
   "codemirror_mode": {
    "name": "ipython",
    "version": 3
   },
   "file_extension": ".py",
   "mimetype": "text/x-python",
   "name": "python",
   "nbconvert_exporter": "python",
   "pygments_lexer": "ipython3",
   "version": "3.8.8"
  }
 },
 "nbformat": 4,
 "nbformat_minor": 5
}
